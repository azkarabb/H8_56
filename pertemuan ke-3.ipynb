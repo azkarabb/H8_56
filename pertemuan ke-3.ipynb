{
 "cells": [
  {
   "cell_type": "code",
   "execution_count": 4,
   "id": "fd1eaf02-52ef-4311-8a96-cdb90ce109e7",
   "metadata": {},
   "outputs": [
    {
     "name": "stdout",
     "output_type": "stream",
     "text": [
      "haloAndika\n"
     ]
    }
   ],
   "source": [
    "namaorang = \"Andika\"\n",
    "\n",
    "print (\"halo\" + namaorang)"
   ]
  },
  {
   "cell_type": "code",
   "execution_count": 12,
   "id": "8d4adc98-1842-4327-94d9-7f42717407e5",
   "metadata": {},
   "outputs": [
    {
     "name": "stdout",
     "output_type": "stream",
     "text": [
      "halo Drake\n",
      "halo \n"
     ]
    },
    {
     "data": {
      "text/plain": [
       "'hore'"
      ]
     },
     "execution_count": 12,
     "metadata": {},
     "output_type": "execute_result"
    }
   ],
   "source": [
    "def sapa(namaorang):\n",
    "    \n",
    "    print (\"halo\" + \" \" + namaorang)\n",
    "    return \"hore\"\n",
    "    print (\"setelah return\")\n",
    "    \n",
    "hasil = sapa(\"Drake\")\n",
    "sapa (\"\")"
   ]
  },
  {
   "cell_type": "code",
   "execution_count": 20,
   "id": "892506ae-05ba-41eb-9fb8-6840e1aef7e5",
   "metadata": {},
   "outputs": [
    {
     "name": "stdout",
     "output_type": "stream",
     "text": [
      "['nangka', 'belimbing', 'manggis', 'dukuh', 'durian']\n"
     ]
    }
   ],
   "source": [
    "list_buah = [\"nangka\", \"belimbing\", \"manggis\", \"dukuh\"]\n",
    "\n",
    "def namabuah(a):\n",
    "    a.append(\"durian\")   \n",
    "\n",
    "namabuah(list_buah)\n",
    "print(list_buah)"
   ]
  },
  {
   "cell_type": "code",
   "execution_count": 36,
   "id": "186b70bf-e49b-44f5-ba6b-053e2fcdb494",
   "metadata": {},
   "outputs": [
    {
     "name": "stdout",
     "output_type": "stream",
     "text": [
      "['azka', 'kevin', 'yudha', 'ifan']\n"
     ]
    }
   ],
   "source": [
    "nama_murid = [\"azka\", \"kevin\", \"yudha\"]\n",
    "\n",
    "def namamurid(a):\n",
    "    a.append(\"ifan\")\n",
    "    \n",
    "namamurid(nama_murid)\n",
    "print(nama_murid)"
   ]
  },
  {
   "cell_type": "code",
   "execution_count": 14,
   "id": "031de330-6761-45ab-8968-59341fc18fe5",
   "metadata": {},
   "outputs": [
    {
     "name": "stdout",
     "output_type": "stream",
     "text": [
      "a: 1 b: 25 c: 35\n"
     ]
    }
   ],
   "source": [
    "def printme(a,b,c):\n",
    "    print(\"a:\",a,\"b:\",b,\"c:\",c)\n",
    "printme (1, 25, 35)"
   ]
  },
  {
   "cell_type": "code",
   "execution_count": 26,
   "id": "4af82295-f341-43cd-8d63-813359b7deb4",
   "metadata": {},
   "outputs": [
    {
     "name": "stdout",
     "output_type": "stream",
     "text": [
      "a: 10 b: 25 c: 10\n"
     ]
    }
   ],
   "source": [
    "printme(c=10, b=25, a=10)"
   ]
  },
  {
   "cell_type": "code",
   "execution_count": 15,
   "id": "7e345cd8-0602-4423-8781-5cebab5c3494",
   "metadata": {},
   "outputs": [
    {
     "name": "stdout",
     "output_type": "stream",
     "text": [
      "a: 1 b: 5 c: 10\n"
     ]
    }
   ],
   "source": [
    "printme(1, 5, 10)"
   ]
  },
  {
   "cell_type": "code",
   "execution_count": 6,
   "id": "3d0f3549-7f6e-4b54-830f-fe58edd41f1a",
   "metadata": {},
   "outputs": [
    {
     "name": "stdout",
     "output_type": "stream",
     "text": [
      "genap: 10\n",
      "genap: 20\n",
      "genap: 30\n",
      "genap: 40\n",
      "genap: 70\n",
      "ganjil: 70\n"
     ]
    }
   ],
   "source": [
    "def printpanjang( *vartuple):\n",
    "    for num in vartuple:\n",
    "        print (\"genap:\", num)\n",
    "    else:\n",
    "        print (\"ganjil:\", num)\n",
    "        \n",
    "printpanjang(10,20,30,40,70)"
   ]
  },
  {
   "cell_type": "code",
   "execution_count": 44,
   "id": "feb56f6a-f421-4163-8e9c-d4379cb47378",
   "metadata": {},
   "outputs": [
    {
     "name": "stdout",
     "output_type": "stream",
     "text": [
      "dimas\n"
     ]
    }
   ],
   "source": [
    "def printme( str ):\n",
    "    print(str)\n",
    "    return\n",
    "printme(str = \"dimas\")"
   ]
  },
  {
   "cell_type": "code",
   "execution_count": 47,
   "id": "4ca51781-e337-4b44-b3da-1b9ac4006d83",
   "metadata": {},
   "outputs": [
    {
     "name": "stdout",
     "output_type": "stream",
     "text": [
      "name: dimas\n",
      "age: 16\n"
     ]
    }
   ],
   "source": [
    "def printinfo(name, age):\n",
    "    print(\"name:\", name)\n",
    "    print(\"age:\", age)\n",
    "printinfo(age = 16, name = \"dimas\")"
   ]
  },
  {
   "cell_type": "code",
   "execution_count": 8,
   "id": "ebd49cd7-9e57-4b37-a059-182284aaa500",
   "metadata": {},
   "outputs": [
    {
     "name": "stdout",
     "output_type": "stream",
     "text": [
      "15\n"
     ]
    }
   ],
   "source": [
    "tambah = lambda a, b : a+b\n",
    "print(tambah(5,10))"
   ]
  },
  {
   "cell_type": "code",
   "execution_count": 9,
   "id": "fbce1c95-390a-42e8-a1d7-59ff3d65ac8f",
   "metadata": {
    "tags": []
   },
   "outputs": [
    {
     "name": "stdout",
     "output_type": "stream",
     "text": [
      "200\n"
     ]
    }
   ],
   "source": [
    "def tambah(a,b):\n",
    "    a = a * 10\n",
    "    b = b * 5\n",
    "    return a+b\n",
    "print(tambah (10,20))"
   ]
  },
  {
   "cell_type": "code",
   "execution_count": 18,
   "id": "88e1561b-2a66-4fda-b34b-394888b286d4",
   "metadata": {},
   "outputs": [
    {
     "data": {
      "text/plain": [
       "<function print>"
      ]
     },
     "execution_count": 18,
     "metadata": {},
     "output_type": "execute_result"
    }
   ],
   "source": [
    "num = 10\n",
    "\n",
    "def kalian (num1, num2):\n",
    "    if (num1 > 0):\n",
    "        multiplier = 5\n",
    "        num1 = num1 * multiplier\n",
    "        print (\"num1:\", num1)\n",
    "        \n",
    "    print(\"mul:\", multiplier)\n",
    "    print(\"num1:\", num1)\n",
    "print"
   ]
  },
  {
   "cell_type": "code",
   "execution_count": 1,
   "id": "e06fe21f-0e7d-4b3f-8a32-43519a4249a7",
   "metadata": {},
   "outputs": [
    {
     "name": "stdout",
     "output_type": "stream",
     "text": [
      "Andika\n",
      "25\n",
      "salam kenal, saya Andika\n"
     ]
    }
   ],
   "source": [
    "import mod\n",
    "\n",
    "print(mod.nama)\n",
    "print(mod.age)\n",
    "mod.salam()"
   ]
  },
  {
   "cell_type": "code",
   "execution_count": 3,
   "id": "e14bd0d5-680e-4cc1-aefc-112d9cb1e715",
   "metadata": {},
   "outputs": [
    {
     "name": "stdout",
     "output_type": "stream",
     "text": [
      "Andika\n",
      "25\n",
      "salam kenal, saya Andika\n"
     ]
    }
   ],
   "source": [
    "from mod import nama,age,salam\n",
    "print(nama)\n",
    "print(age)\n",
    "salam()"
   ]
  },
  {
   "cell_type": "code",
   "execution_count": 4,
   "id": "33cf9b8d-4dae-40ff-8d81-71d948e9e250",
   "metadata": {},
   "outputs": [
    {
     "name": "stdout",
     "output_type": "stream",
     "text": [
      "Andika\n",
      "25\n",
      "salam kenal, saya Andika\n"
     ]
    }
   ],
   "source": [
    "from mod import *\n",
    "print(nama)\n",
    "print(age)\n",
    "salam()"
   ]
  },
  {
   "cell_type": "code",
   "execution_count": 7,
   "id": "fed530e9-fde4-414f-a80b-06cda68cfb2e",
   "metadata": {},
   "outputs": [
    {
     "ename": "SyntaxError",
     "evalue": "invalid syntax (<ipython-input-7-875c31680762>, line 2)",
     "output_type": "error",
     "traceback": [
      "\u001b[1;36m  File \u001b[1;32m\"<ipython-input-7-875c31680762>\"\u001b[1;36m, line \u001b[1;32m2\u001b[0m\n\u001b[1;33m    from mod2 import as menu makanan\u001b[0m\n\u001b[1;37m                     ^\u001b[0m\n\u001b[1;31mSyntaxError\u001b[0m\u001b[1;31m:\u001b[0m invalid syntax\n"
     ]
    }
   ],
   "source": [
    "from mod import nama as username, age as userage, salam as usersalam\n",
    "from mod2 import as menu makanan\n",
    "print(username, userage)\n",
    "usersalam()\n",
    "print(menu makanan)"
   ]
  },
  {
   "cell_type": "code",
   "execution_count": 8,
   "id": "5b139102-11b6-4ffb-b532-202273d54a16",
   "metadata": {},
   "outputs": [
    {
     "data": {
      "text/plain": [
       "['C:\\\\Users\\\\SilvaRex\\\\belajar python\\\\H8_56',\n",
       " 'C:\\\\Users\\\\SilvaRex\\\\anaconda3\\\\python38.zip',\n",
       " 'C:\\\\Users\\\\SilvaRex\\\\anaconda3\\\\DLLs',\n",
       " 'C:\\\\Users\\\\SilvaRex\\\\anaconda3\\\\lib',\n",
       " 'C:\\\\Users\\\\SilvaRex\\\\anaconda3',\n",
       " '',\n",
       " 'C:\\\\Users\\\\SilvaRex\\\\anaconda3\\\\lib\\\\site-packages',\n",
       " 'C:\\\\Users\\\\SilvaRex\\\\anaconda3\\\\lib\\\\site-packages\\\\locket-0.2.1-py3.8.egg',\n",
       " 'C:\\\\Users\\\\SilvaRex\\\\anaconda3\\\\lib\\\\site-packages\\\\win32',\n",
       " 'C:\\\\Users\\\\SilvaRex\\\\anaconda3\\\\lib\\\\site-packages\\\\win32\\\\lib',\n",
       " 'C:\\\\Users\\\\SilvaRex\\\\anaconda3\\\\lib\\\\site-packages\\\\Pythonwin',\n",
       " 'C:\\\\Users\\\\SilvaRex\\\\anaconda3\\\\lib\\\\site-packages\\\\IPython\\\\extensions',\n",
       " 'C:\\\\Users\\\\SilvaRex\\\\.ipython']"
      ]
     },
     "execution_count": 8,
     "metadata": {},
     "output_type": "execute_result"
    }
   ],
   "source": [
    "import sys\n",
    "sys.path"
   ]
  },
  {
   "cell_type": "code",
   "execution_count": 10,
   "id": "66c12355-d9ce-46de-82d9-371a8e5cc0b4",
   "metadata": {},
   "outputs": [
    {
     "data": {
      "text/plain": [
       "['In',\n",
       " 'Out',\n",
       " 'Salam',\n",
       " '_',\n",
       " '_8',\n",
       " '_9',\n",
       " '__',\n",
       " '___',\n",
       " '__builtin__',\n",
       " '__builtins__',\n",
       " '__doc__',\n",
       " '__loader__',\n",
       " '__name__',\n",
       " '__package__',\n",
       " '__spec__',\n",
       " '_dh',\n",
       " '_i',\n",
       " '_i1',\n",
       " '_i10',\n",
       " '_i2',\n",
       " '_i3',\n",
       " '_i4',\n",
       " '_i5',\n",
       " '_i6',\n",
       " '_i7',\n",
       " '_i8',\n",
       " '_i9',\n",
       " '_ih',\n",
       " '_ii',\n",
       " '_iii',\n",
       " '_oh',\n",
       " 'age',\n",
       " 'exit',\n",
       " 'get_ipython',\n",
       " 'mod',\n",
       " 'nama',\n",
       " 'quit',\n",
       " 'salam',\n",
       " 'sys',\n",
       " 'userage',\n",
       " 'username',\n",
       " 'usersalam']"
      ]
     },
     "execution_count": 10,
     "metadata": {},
     "output_type": "execute_result"
    }
   ],
   "source": [
    "dir()"
   ]
  },
  {
   "cell_type": "code",
   "execution_count": 11,
   "id": "aaae26d6-dab2-4535-9e34-c75f2002a5c8",
   "metadata": {},
   "outputs": [
    {
     "ename": "SyntaxError",
     "evalue": "invalid syntax (mod.py, line 5)",
     "output_type": "error",
     "traceback": [
      "Traceback \u001b[1;36m(most recent call last)\u001b[0m:\n",
      "  File \u001b[0;32m\"C:\\Users\\SilvaRex\\anaconda3\\lib\\site-packages\\IPython\\core\\interactiveshell.py\"\u001b[0m, line \u001b[0;32m3437\u001b[0m, in \u001b[0;35mrun_code\u001b[0m\n    exec(code_obj, self.user_global_ns, self.user_ns)\n",
      "  File \u001b[0;32m\"<ipython-input-11-986ec3b061af>\"\u001b[0m, line \u001b[0;32m2\u001b[0m, in \u001b[0;35m<module>\u001b[0m\n    importlib.reload(mod)\n",
      "  File \u001b[0;32m\"C:\\Users\\SilvaRex\\anaconda3\\lib\\importlib\\__init__.py\"\u001b[0m, line \u001b[0;32m169\u001b[0m, in \u001b[0;35mreload\u001b[0m\n    _bootstrap._exec(spec, module)\n",
      "  File \u001b[0;32m\"<frozen importlib._bootstrap>\"\u001b[0m, line \u001b[0;32m604\u001b[0m, in \u001b[0;35m_exec\u001b[0m\n",
      "  File \u001b[0;32m\"<frozen importlib._bootstrap_external>\"\u001b[0m, line \u001b[0;32m779\u001b[0m, in \u001b[0;35mexec_module\u001b[0m\n",
      "  File \u001b[0;32m\"<frozen importlib._bootstrap_external>\"\u001b[0m, line \u001b[0;32m916\u001b[0m, in \u001b[0;35mget_code\u001b[0m\n",
      "  File \u001b[0;32m\"<frozen importlib._bootstrap_external>\"\u001b[0m, line \u001b[0;32m846\u001b[0m, in \u001b[0;35msource_to_code\u001b[0m\n",
      "\u001b[1;36m  File \u001b[1;32m\"<frozen importlib._bootstrap>\"\u001b[1;36m, line \u001b[1;32m219\u001b[1;36m, in \u001b[1;35m_call_with_frames_removed\u001b[1;36m\u001b[0m\n",
      "\u001b[1;36m  File \u001b[1;32m\"C:\\Users\\SilvaRex\\belajar python\\H8_56\\mod.py\"\u001b[1;36m, line \u001b[1;32m5\u001b[0m\n\u001b[1;33m    if len (vals) ==\u001b[0m\n\u001b[1;37m                     ^\u001b[0m\n\u001b[1;31mSyntaxError\u001b[0m\u001b[1;31m:\u001b[0m invalid syntax\n"
     ]
    }
   ],
   "source": [
    "import importlib\n",
    "importlib.reload(mod)"
   ]
  },
  {
   "cell_type": "code",
   "execution_count": 14,
   "id": "73cffc1a-cdc8-4072-8dfa-a3dd44ee05e6",
   "metadata": {},
   "outputs": [
    {
     "ename": "ModuleNotFoundError",
     "evalue": "No module named 'pkg'",
     "output_type": "error",
     "traceback": [
      "\u001b[1;31m---------------------------------------------------------------------------\u001b[0m",
      "\u001b[1;31mModuleNotFoundError\u001b[0m                       Traceback (most recent call last)",
      "\u001b[1;32m<ipython-input-14-df5419844362>\u001b[0m in \u001b[0;36m<module>\u001b[1;34m\u001b[0m\n\u001b[1;32m----> 1\u001b[1;33m \u001b[1;32mimport\u001b[0m \u001b[0mpkg\u001b[0m\u001b[1;33m.\u001b[0m\u001b[0mmod\u001b[0m\u001b[1;33m,\u001b[0m \u001b[0mpkg\u001b[0m\u001b[1;33m.\u001b[0m\u001b[0mmod2\u001b[0m\u001b[1;33m\u001b[0m\u001b[1;33m\u001b[0m\u001b[0m\n\u001b[0m\u001b[0;32m      2\u001b[0m \u001b[1;33m\u001b[0m\u001b[0m\n\u001b[0;32m      3\u001b[0m \u001b[0mprint\u001b[0m\u001b[1;33m(\u001b[0m\u001b[0mpkg\u001b[0m\u001b[1;33m.\u001b[0m\u001b[0mmod\u001b[0m\u001b[1;33m.\u001b[0m\u001b[0mnama\u001b[0m\u001b[1;33m)\u001b[0m\u001b[1;33m\u001b[0m\u001b[1;33m\u001b[0m\u001b[0m\n\u001b[0;32m      4\u001b[0m \u001b[0mprint\u001b[0m\u001b[1;33m(\u001b[0m\u001b[0mpkg\u001b[0m\u001b[1;33m.\u001b[0m\u001b[0mmod2\u001b[0m\u001b[1;33m.\u001b[0m\u001b[0mname\u001b[0m\u001b[1;33m)\u001b[0m\u001b[1;33m\u001b[0m\u001b[1;33m\u001b[0m\u001b[0m\n",
      "\u001b[1;31mModuleNotFoundError\u001b[0m: No module named 'pkg'"
     ]
    }
   ],
   "source": [
    "import pkg.mod, pkg.mod2\n",
    "\n",
    "print(pkg.mod.nama)\n",
    "print(pkg.mod2.name)"
   ]
  },
  {
   "cell_type": "code",
   "execution_count": 17,
   "id": "326fcad3-4318-41c4-93b3-4c1c69ffb730",
   "metadata": {},
   "outputs": [
    {
     "ename": "SyntaxError",
     "evalue": "EOL while scanning string literal (<ipython-input-17-cb78ba9802d5>, line 5)",
     "output_type": "error",
     "traceback": [
      "\u001b[1;36m  File \u001b[1;32m\"<ipython-input-17-cb78ba9802d5>\"\u001b[1;36m, line \u001b[1;32m5\u001b[0m\n\u001b[1;33m    print(f'response dari google: {respose.status_code}, {response.reason}'')\u001b[0m\n\u001b[1;37m                                                                             ^\u001b[0m\n\u001b[1;31mSyntaxError\u001b[0m\u001b[1;31m:\u001b[0m EOL while scanning string literal\n"
     ]
    }
   ],
   "source": [
    "import request\n",
    "\n",
    "url = 'https://www.google.com'\n",
    "response = request.get(url)\n",
    "print(f'response dari google: {respose.status_code}, {response.reason}'')"
   ]
  },
  {
   "cell_type": "code",
   "execution_count": null,
   "id": "eb203b46-e139-4ad7-8dec-1157e71cb173",
   "metadata": {},
   "outputs": [],
   "source": []
  }
 ],
 "metadata": {
  "kernelspec": {
   "display_name": "Python 3",
   "language": "python",
   "name": "python3"
  },
  "language_info": {
   "codemirror_mode": {
    "name": "ipython",
    "version": 3
   },
   "file_extension": ".py",
   "mimetype": "text/x-python",
   "name": "python",
   "nbconvert_exporter": "python",
   "pygments_lexer": "ipython3",
   "version": "3.8.8"
  }
 },
 "nbformat": 4,
 "nbformat_minor": 5
}
