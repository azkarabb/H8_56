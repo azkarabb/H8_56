{
 "cells": [
  {
   "cell_type": "code",
   "execution_count": 5,
   "id": "6f3e3cfc-9364-439c-b816-d35759907b04",
   "metadata": {},
   "outputs": [
    {
     "name": "stdout",
     "output_type": "stream",
     "text": [
      "value of total : None\n",
      "value of total : None\n"
     ]
    }
   ],
   "source": [
    "sum = lambda arg1, arg2: arg1 + arg2;\n",
    "\n",
    "def sum (arg1, arg2):\n",
    "    arg1 + arg2\n",
    "    \n",
    "print(\"value of total :\", sum(10, 20))\n",
    "print(\"value of total :\", sum(20, 20))"
   ]
  },
  {
   "cell_type": "code",
   "execution_count": null,
   "id": "044b0633-52d1-4043-87c5-462a2c02544a",
   "metadata": {},
   "outputs": [],
   "source": []
  },
  {
   "cell_type": "code",
   "execution_count": 9,
   "id": "e1fbb28c-dcb0-4dd1-9a79-79da2cbc71ca",
   "metadata": {},
   "outputs": [
    {
     "name": "stdout",
     "output_type": "stream",
     "text": [
      "inside the funtion :, total\n",
      "outside the function:  40\n"
     ]
    }
   ],
   "source": [
    "def sum(arg1, arg2):\n",
    "    total = 10 + 20\n",
    "    total2 = total + arg1\n",
    "    print(\"inside the funtion :, total\")\n",
    "    return total2\n",
    "\n",
    "total = sum(10,20)\n",
    "print(\"outside the function: \", total)"
   ]
  },
  {
   "cell_type": "code",
   "execution_count": 14,
   "id": "9518fa78-0b7a-4d09-b898-04ec93e552fd",
   "metadata": {},
   "outputs": [
    {
     "ename": "IndentationError",
     "evalue": "unexpected indent (<ipython-input-14-98b92d94a963>, line 3)",
     "output_type": "error",
     "traceback": [
      "\u001b[1;36m  File \u001b[1;32m\"<ipython-input-14-98b92d94a963>\"\u001b[1;36m, line \u001b[1;32m3\u001b[0m\n\u001b[1;33m    def sum(arg1, arg2):\u001b[0m\n\u001b[1;37m    ^\u001b[0m\n\u001b[1;31mIndentationError\u001b[0m\u001b[1;31m:\u001b[0m unexpected indent\n"
     ]
    }
   ],
   "source": [
    "total = 0;\n",
    "\n",
    "    def sum(arg1, arg2):\n",
    "        total = arg1 + arg2\n",
    "        print(\"inside the function local total :\", total )\n",
    "        return total;\n",
    "    \n",
    "    def min():\n",
    "    \n",
    "    sum(10, 20):\n",
    "print(\"outside the function global total :\", total)"
   ]
  },
  {
   "cell_type": "code",
   "execution_count": null,
   "id": "43149e4f-6330-4eaa-ab4f-a1a1ff7a05de",
   "metadata": {},
   "outputs": [],
   "source": []
  },
  {
   "cell_type": "code",
   "execution_count": 15,
   "id": "93dba6ed-c341-4eb5-bc6c-d0c2cbdac3ed",
   "metadata": {},
   "outputs": [
    {
     "data": {
      "text/plain": [
       "40"
      ]
     },
     "execution_count": 15,
     "metadata": {},
     "output_type": "execute_result"
    }
   ],
   "source": [
    "jumlahKucing = 20\n",
    "\n",
    "def jumlahHewan():\n",
    "    jumlahAnjing = 30\n",
    "    return jumlahKucing + jumlahAnjing\n",
    "\n",
    "def jumlahKelinci():\n",
    "    return jumlahKucing + jumlahKucing\n",
    "\n",
    "jumlahHewan()\n",
    "jumlahKelinci()"
   ]
  },
  {
   "cell_type": "code",
   "execution_count": null,
   "id": "c01c686f-5a04-4e13-8e84-b86c390ca3a3",
   "metadata": {},
   "outputs": [],
   "source": []
  },
  {
   "cell_type": "code",
   "execution_count": 20,
   "id": "7ab7d7ef-8eec-4c5d-a74c-11dcc28a059e",
   "metadata": {},
   "outputs": [
    {
     "ename": "SyntaxError",
     "evalue": "invalid syntax (mod1percobaan.py, line 4)",
     "output_type": "error",
     "traceback": [
      "Traceback \u001b[1;36m(most recent call last)\u001b[0m:\n",
      "  File \u001b[0;32m\"C:\\Users\\SilvaRex\\anaconda3\\lib\\site-packages\\IPython\\core\\interactiveshell.py\"\u001b[0m, line \u001b[0;32m3437\u001b[0m, in \u001b[0;35mrun_code\u001b[0m\n    exec(code_obj, self.user_global_ns, self.user_ns)\n",
      "\u001b[1;36m  File \u001b[1;32m\"<ipython-input-20-99d64390b8a2>\"\u001b[1;36m, line \u001b[1;32m1\u001b[1;36m, in \u001b[1;35m<module>\u001b[1;36m\u001b[0m\n\u001b[1;33m    import mod1percobaan\u001b[0m\n",
      "\u001b[1;36m  File \u001b[1;32m\"C:\\Users\\SilvaRex\\belajar python\\H8_56\\mod1percobaan.py\"\u001b[1;36m, line \u001b[1;32m4\u001b[0m\n\u001b[1;33m    deff foo(arg):\u001b[0m\n\u001b[1;37m         ^\u001b[0m\n\u001b[1;31mSyntaxError\u001b[0m\u001b[1;31m:\u001b[0m invalid syntax\n"
     ]
    }
   ],
   "source": [
    "import mod1percobaan\n",
    "print(mod.s)\n",
    "print(mod.a)"
   ]
  },
  {
   "cell_type": "code",
   "execution_count": null,
   "id": "5f90567d-2dda-492f-ae16-a11358d543b1",
   "metadata": {},
   "outputs": [],
   "source": []
  }
 ],
 "metadata": {
  "kernelspec": {
   "display_name": "Python 3",
   "language": "python",
   "name": "python3"
  },
  "language_info": {
   "codemirror_mode": {
    "name": "ipython",
    "version": 3
   },
   "file_extension": ".py",
   "mimetype": "text/x-python",
   "name": "python",
   "nbconvert_exporter": "python",
   "pygments_lexer": "ipython3",
   "version": "3.8.8"
  }
 },
 "nbformat": 4,
 "nbformat_minor": 5
}
