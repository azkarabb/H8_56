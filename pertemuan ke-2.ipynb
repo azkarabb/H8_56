{
 "cells": [
  {
   "cell_type": "code",
   "execution_count": 2,
   "id": "cab3186a-d5fa-43d0-a15a-e27e449c26f1",
   "metadata": {},
   "outputs": [
    {
     "name": "stdout",
     "output_type": "stream",
     "text": [
      "a sama dengan b\n"
     ]
    }
   ],
   "source": [
    "a = 10\n",
    "b = 10\n",
    "\n",
    "if (a ==b):\n",
    "    print (\"a sama dengan b\")\n",
    "    "
   ]
  },
  {
   "cell_type": "code",
   "execution_count": null,
   "id": "705396e8-bb86-4e93-baaf-3533a4935391",
   "metadata": {},
   "outputs": [],
   "source": [
    "a = 1\n",
    "b = 2\n",
    "c = 3\n",
    "\n",
    "if a < b:\n",
    "    print (\"a < b\")\n",
    "        \n",
    "    if b < c:\n",
    "        print (\"a < b < c\")\n",
    "        \n",
    "    if a < c:\n",
    "        print (\"a < b dan a < c\")\n",
    "        \n",
    "    print (\"ok\")\n",
    "else:\n",
    "    print (\"a\")\n",
    "    \n",
    "print (\"diluar if a < b\")"
   ]
  },
  {
   "cell_type": "code",
   "execution_count": 18,
   "id": "f2bcf1e9-23ef-4544-866e-bb72416af006",
   "metadata": {},
   "outputs": [
    {
     "name": "stdout",
     "output_type": "stream",
     "text": [
      "welcome ryan\n"
     ]
    }
   ],
   "source": [
    "list_nama_murid = (\"azka\", \"kevin\", \"idaz\", \"hesti\", \"ryan\", \"rudy\")\n",
    "nama_murid = \"ryan\"\n",
    "if nama_murid in list_nama_murid :\n",
    "    print (\"welcome\" + \" \" + nama_murid)\n",
    "else:\n",
    "    print (\"welcome\" + \"to H8\")"
   ]
  },
  {
   "cell_type": "code",
   "execution_count": 19,
   "id": "1d07ab8f-0ac4-48af-a452-f3243a3c3580",
   "metadata": {},
   "outputs": [
    {
     "name": "stdout",
     "output_type": "stream",
     "text": [
      "0\n",
      "1\n",
      "2\n",
      "3\n",
      "4\n"
     ]
    }
   ],
   "source": [
    "for n in range (5):\n",
    "    print (n)"
   ]
  },
  {
   "cell_type": "code",
   "execution_count": 23,
   "id": "7ef73c40-7a78-4c29-9ef5-6233880c1596",
   "metadata": {},
   "outputs": [
    {
     "name": "stdout",
     "output_type": "stream",
     "text": [
      "halo azka\n",
      "halo kevin\n",
      "selamat malam\n",
      "halo idaz\n",
      "halo hesti\n",
      "halo ryan\n",
      "halo rudy\n"
     ]
    }
   ],
   "source": [
    "list_nama_murid = (\"azka\", \"kevin\", \"idaz\", \"hesti\", \"ryan\", \"rudy\")\n",
    "\n",
    "for murid in list_nama_murid:\n",
    "    print (\"halo\", murid)\n",
    "    if murid == \"kevin\":\n",
    "        print(\"selamat malam\")"
   ]
  },
  {
   "cell_type": "code",
   "execution_count": null,
   "id": "183df437-0240-4bf6-a0be-27980e8accb5",
   "metadata": {},
   "outputs": [],
   "source": []
  },
  {
   "cell_type": "code",
   "execution_count": 3,
   "id": "496b69d0-77e0-4e96-8a35-2eece47f8b32",
   "metadata": {},
   "outputs": [
    {
     "name": "stdout",
     "output_type": "stream",
     "text": [
      "i sudah di 5 keatas\n",
      "i sudah di 5 keatas\n",
      "i sudah di 5 keatas\n",
      "i sudah di 5 keatas\n",
      "i sudah di 5 keatas\n",
      "selalu keluar, karena ini di luar for loop nya\n"
     ]
    }
   ],
   "source": [
    "for i in range(10):\n",
    "    if (i < 5):\n",
    "        continue\n",
    "    # selama i ada di atas 5, loop nya akan kembali ke atas lagi\n",
    "    \n",
    "    print (\"i sudah di 5 keatas\")\n",
    "\n",
    "print(\"selalu keluar, karena ini di luar for loop nya\")"
   ]
  },
  {
   "cell_type": "code",
   "execution_count": 4,
   "id": "078a4622-fa3d-42a9-8871-0f2fb4f841d3",
   "metadata": {},
   "outputs": [
    {
     "name": "stdout",
     "output_type": "stream",
     "text": [
      "loop masih berjalan 1\n",
      "loop masih berjalan 1\n",
      "selalu keluar, karena ini di luar for loopnya\n"
     ]
    }
   ],
   "source": [
    "# apa itu break dalam loop\n",
    "\n",
    "for i in range(10):\n",
    "    if (i ==2):\n",
    "        break\n",
    "        # kalau i adalah 2, maka loop akan berhenti\n",
    "    print(\"loop masih berjalan\", 1)\n",
    "    \n",
    "print(\"selalu keluar, karena ini di luar for loopnya\")\n"
   ]
  },
  {
   "cell_type": "code",
   "execution_count": 5,
   "id": "038b2f37-d7dc-4bbd-b98b-21648bfaf9b2",
   "metadata": {},
   "outputs": [
    {
     "name": "stdout",
     "output_type": "stream",
     "text": [
      "loop masih berjalan 0\n",
      "loop masih berjalan 1\n",
      "loop masih berjalan 3\n",
      "loop masih berjalan 4\n",
      "loop masih berjalan 5\n",
      "loop masih berjalan 6\n",
      "loop masih berjalan 7\n",
      "loop masih berjalan 8\n",
      "loop masih berjalan 9\n",
      "selalu keluar, karena ini di luar loop\n"
     ]
    }
   ],
   "source": [
    "\n",
    "# apa itu continue dalam loop\n",
    "for i in range (10):\n",
    "    if (i == 2):\n",
    "        continue\n",
    "        # kalau i adalah 2, maka loop balik ke awal\n",
    "    print(\"loop masih berjalan\", i)\n",
    "print(\"selalu keluar, karena ini di luar loop\")"
   ]
  },
  {
   "cell_type": "code",
   "execution_count": 2,
   "id": "28f3fe3f-787e-43fb-91b6-40e00714f3b5",
   "metadata": {},
   "outputs": [
    {
     "name": "stdout",
     "output_type": "stream",
     "text": [
      "yeay dapat 10 10\n",
      "num kurang 1\n",
      "yeay dapat 10 9\n",
      "num kurang 1\n",
      "yeay dapat 10 8\n",
      "num kurang 1\n",
      "yeay dapat 10 7\n",
      "num kurang 1\n",
      "yeay dapat 10 6\n",
      "num kurang 1\n",
      "yeay dapat 10 5\n",
      "num kurang 1\n",
      "yeay dapat 10 4\n",
      "num kurang 1\n",
      "yeay dapat 10 3\n",
      "num kurang 1\n",
      "yeay dapat 10 2\n",
      "num kurang 1\n",
      "yeay dapat 10 1\n",
      "num kurang 1\n",
      "yeay dapat 10 0\n",
      "num kurang 1\n"
     ]
    }
   ],
   "source": [
    "num = 10\n",
    "while num >= 0:\n",
    "    print (\"yeay dapat 10\", num)\n",
    "    num -= 1\n",
    "    print (\"num kurang 1\")"
   ]
  },
  {
   "cell_type": "code",
   "execution_count": null,
   "id": "5fd8993c-d05c-4d76-8fb4-12edf4a4f079",
   "metadata": {},
   "outputs": [],
   "source": []
  },
  {
   "cell_type": "code",
   "execution_count": null,
   "id": "0572641d-b3c0-441e-a6f3-ed75ff4122cb",
   "metadata": {},
   "outputs": [],
   "source": [
    "a = 10\n",
    "b = 10"
   ]
  }
 ],
 "metadata": {
  "kernelspec": {
   "display_name": "Python 3",
   "language": "python",
   "name": "python3"
  },
  "language_info": {
   "codemirror_mode": {
    "name": "ipython",
    "version": 3
   },
   "file_extension": ".py",
   "mimetype": "text/x-python",
   "name": "python",
   "nbconvert_exporter": "python",
   "pygments_lexer": "ipython3",
   "version": "3.8.8"
  }
 },
 "nbformat": 4,
 "nbformat_minor": 5
}
