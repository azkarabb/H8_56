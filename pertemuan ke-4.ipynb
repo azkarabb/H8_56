{
 "cells": [
  {
   "cell_type": "code",
   "execution_count": 4,
   "id": "c83c391b-8284-48b1-9c04-316d938c773d",
   "metadata": {},
   "outputs": [
    {
     "ename": "TypeError",
     "evalue": "can't multiply sequence by non-int of type 'list'",
     "output_type": "error",
     "traceback": [
      "\u001b[1;31m---------------------------------------------------------------------------\u001b[0m",
      "\u001b[1;31mTypeError\u001b[0m                                 Traceback (most recent call last)",
      "\u001b[1;32m<ipython-input-4-b4be71fc2b54>\u001b[0m in \u001b[0;36m<module>\u001b[1;34m\u001b[0m\n\u001b[0;32m      3\u001b[0m \u001b[1;33m\u001b[0m\u001b[0m\n\u001b[0;32m      4\u001b[0m \u001b[1;33m\u001b[0m\u001b[0m\n\u001b[1;32m----> 5\u001b[1;33m \u001b[0mtinggi\u001b[0m \u001b[1;33m*\u001b[0m \u001b[0mlebar\u001b[0m\u001b[1;33m\u001b[0m\u001b[1;33m\u001b[0m\u001b[0m\n\u001b[0m",
      "\u001b[1;31mTypeError\u001b[0m: can't multiply sequence by non-int of type 'list'"
     ]
    }
   ],
   "source": [
    "tinggi = [51, 72, 64, 87, 90]\n",
    "lebar = [100, 201, 51, 12, 12]\n",
    "\n",
    "\n",
    "tinggi * lebar"
   ]
  },
  {
   "cell_type": "code",
   "execution_count": 5,
   "id": "03d1bdec-e663-4737-81d5-2f82452dcfdf",
   "metadata": {},
   "outputs": [],
   "source": [
    "import numpy as np"
   ]
  },
  {
   "cell_type": "code",
   "execution_count": 8,
   "id": "3b63882a-db79-4e2b-a741-1ee869c045f2",
   "metadata": {},
   "outputs": [
    {
     "name": "stdout",
     "output_type": "stream",
     "text": [
      "[ 2601000 20839680  6266880  3633120  4860000] <class 'numpy.ndarray'>\n"
     ]
    }
   ],
   "source": [
    "arr_tinggi = np.array(tinggi)\n",
    "arr_lebar = np.array(lebar)\n",
    "arr_panjang = np.array([10, 20, 30, 40, 50])\n",
    "\n",
    "hasil = arr_tinggi * arr_lebar * arr_panjang * arr_tinggi\n",
    "print(hasil, type(hasil))"
   ]
  },
  {
   "cell_type": "code",
   "execution_count": 13,
   "id": "5d4eeb9e-f186-4427-8287-07628482930d",
   "metadata": {},
   "outputs": [
    {
     "data": {
      "text/plain": [
       "array([0., 0., 0., 0., 0.])"
      ]
     },
     "execution_count": 13,
     "metadata": {},
     "output_type": "execute_result"
    }
   ],
   "source": [
    "np.zeros(5)"
   ]
  },
  {
   "cell_type": "code",
   "execution_count": 14,
   "id": "8e047c72-4656-46d9-a06e-4f55881bf65e",
   "metadata": {},
   "outputs": [
    {
     "data": {
      "text/plain": [
       "array([1., 1., 1.])"
      ]
     },
     "execution_count": 14,
     "metadata": {},
     "output_type": "execute_result"
    }
   ],
   "source": [
    "np.ones(3)"
   ]
  },
  {
   "cell_type": "code",
   "execution_count": 15,
   "id": "185d157e-24c7-4f4d-aeee-85b249f9284e",
   "metadata": {},
   "outputs": [
    {
     "data": {
      "text/plain": [
       "array([2.12199579e-314, 4.47593775e-091, 4.13038880e-321, 3.79442416e-321])"
      ]
     },
     "execution_count": 15,
     "metadata": {},
     "output_type": "execute_result"
    }
   ],
   "source": [
    "np.empty(4)"
   ]
  },
  {
   "cell_type": "code",
   "execution_count": 16,
   "id": "3dc914a9-ae19-42be-b4d6-c8e7282a6c7e",
   "metadata": {},
   "outputs": [
    {
     "data": {
      "text/plain": [
       "array([0, 1, 2, 3, 4, 5, 6, 7, 8, 9])"
      ]
     },
     "execution_count": 16,
     "metadata": {},
     "output_type": "execute_result"
    }
   ],
   "source": [
    "np.arange(10)"
   ]
  },
  {
   "cell_type": "code",
   "execution_count": 18,
   "id": "c165e40e-2447-466c-8277-c38873188ec6",
   "metadata": {},
   "outputs": [
    {
     "data": {
      "text/plain": [
       "array([ 7,  9, 11, 13])"
      ]
     },
     "execution_count": 18,
     "metadata": {},
     "output_type": "execute_result"
    }
   ],
   "source": [
    "arr_numbers = np.arange(7, 15, 2)\n",
    "arr_numbers"
   ]
  },
  {
   "cell_type": "code",
   "execution_count": 19,
   "id": "13d271ee-72ca-4da5-8b5f-01266c9ce33b",
   "metadata": {},
   "outputs": [
    {
     "data": {
      "text/plain": [
       "array([ 7,  9, 11, 13, 15])"
      ]
     },
     "execution_count": 19,
     "metadata": {},
     "output_type": "execute_result"
    }
   ],
   "source": [
    "arr_numbers = np.append(arr_numbers, 15)\n",
    "arr_numbers"
   ]
  },
  {
   "cell_type": "code",
   "execution_count": 20,
   "id": "30b32eaa-18bd-4a16-acaf-514a06248321",
   "metadata": {},
   "outputs": [
    {
     "name": "stdout",
     "output_type": "stream",
     "text": [
      "[ 7  9 11 13 15 15 17]\n",
      "<class 'numpy.ndarray'>\n"
     ]
    }
   ],
   "source": [
    "hasil = np.append(arr_numbers, [15, 17])\n",
    "print(hasil)\n",
    "print(type(hasil))"
   ]
  },
  {
   "cell_type": "code",
   "execution_count": 21,
   "id": "71bfa987-db15-468c-ae4f-c9f0331e7387",
   "metadata": {},
   "outputs": [
    {
     "name": "stdout",
     "output_type": "stream",
     "text": [
      "<class 'numpy.ndarray'>\n"
     ]
    }
   ],
   "source": [
    "tempel2list = np.append([1, 2, 3],[4, 5, 6])\n",
    "print(type(tempel2list))"
   ]
  },
  {
   "cell_type": "code",
   "execution_count": 25,
   "id": "0bbf0bf8-f591-43c5-bbcc-89a6a959d7cd",
   "metadata": {},
   "outputs": [
    {
     "name": "stdout",
     "output_type": "stream",
     "text": [
      "[1 3 4 5 6]\n"
     ]
    }
   ],
   "source": [
    "hasil_return = np.delete(tempel2list,1)\n",
    "print(hasil_return)"
   ]
  },
  {
   "cell_type": "code",
   "execution_count": 26,
   "id": "7b530ee7-6389-4b36-88c4-d88f212f6642",
   "metadata": {},
   "outputs": [
    {
     "data": {
      "text/plain": [
       "array([-6, -5, -1,  0,  0,  1,  5,  6])"
      ]
     },
     "execution_count": 26,
     "metadata": {},
     "output_type": "execute_result"
    }
   ],
   "source": [
    "random_numbers = np.array([-1, 1, 5, -5, -6, 6, 0, 0])\n",
    "np.sort(random_numbers)"
   ]
  },
  {
   "cell_type": "code",
   "execution_count": 27,
   "id": "04bd1d43-9040-4ea6-9770-37c04e2cb499",
   "metadata": {},
   "outputs": [
    {
     "data": {
      "text/plain": [
       "array([-1,  1,  5, -5, -6,  6,  0,  0])"
      ]
     },
     "execution_count": 27,
     "metadata": {},
     "output_type": "execute_result"
    }
   ],
   "source": [
    "random_numbers"
   ]
  },
  {
   "cell_type": "code",
   "execution_count": 28,
   "id": "d105b043-8be3-48af-93ea-dded6ecb40c4",
   "metadata": {},
   "outputs": [
    {
     "data": {
      "text/plain": [
       "1"
      ]
     },
     "execution_count": 28,
     "metadata": {},
     "output_type": "execute_result"
    }
   ],
   "source": [
    "random_numbers.ndim"
   ]
  },
  {
   "cell_type": "code",
   "execution_count": 31,
   "id": "ac2cbd88-6d60-4518-9b45-f174e2b801d0",
   "metadata": {},
   "outputs": [],
   "source": [
    "arr_2d = np.array([\n",
    "    [\"o\",\"x\",\"o\"],\n",
    "    [\"x\",\"x\",\"o\"],\n",
    "    [\"o\",\" \",\" \"],\n",
    "])"
   ]
  },
  {
   "cell_type": "code",
   "execution_count": 32,
   "id": "a237ffb0-b548-459b-8b2c-2b688d6d4732",
   "metadata": {},
   "outputs": [
    {
     "data": {
      "text/plain": [
       "2"
      ]
     },
     "execution_count": 32,
     "metadata": {},
     "output_type": "execute_result"
    }
   ],
   "source": [
    "arr_2d.ndim"
   ]
  },
  {
   "cell_type": "code",
   "execution_count": 34,
   "id": "e56adf73-addc-40b6-9692-22fa35dcadfb",
   "metadata": {},
   "outputs": [
    {
     "data": {
      "text/plain": [
       "8"
      ]
     },
     "execution_count": 34,
     "metadata": {},
     "output_type": "execute_result"
    }
   ],
   "source": [
    "random_numbers.size"
   ]
  },
  {
   "cell_type": "code",
   "execution_count": 35,
   "id": "1c36fe33-ca54-4850-89aa-5015e5a042d3",
   "metadata": {},
   "outputs": [
    {
     "data": {
      "text/plain": [
       "(8,)"
      ]
     },
     "execution_count": 35,
     "metadata": {},
     "output_type": "execute_result"
    }
   ],
   "source": [
    "random_numbers.shape"
   ]
  },
  {
   "cell_type": "code",
   "execution_count": 38,
   "id": "be6346a8-2a1f-4269-8270-55b71b5b8539",
   "metadata": {},
   "outputs": [
    {
     "name": "stdout",
     "output_type": "stream",
     "text": [
      "[['o' 'x' 'o']\n",
      " ['x' 'x' 'o']\n",
      " ['o' ' ' ' ']]\n",
      "[['o' 'x' 'o']\n",
      " ['x' 'x' 'o']\n",
      " ['o' ' ' ' ']]\n"
     ]
    }
   ],
   "source": [
    "transposed = arr_2d.reshape(3,3)\n",
    "transposed.shape\n",
    "print(arr_2d)\n",
    "print(transposed)"
   ]
  },
  {
   "cell_type": "code",
   "execution_count": 45,
   "id": "c67e6cc0-de28-4d7f-8738-f9583bb4c696",
   "metadata": {},
   "outputs": [
    {
     "data": {
      "text/plain": [
       "array([[-1,  1,  5, -5, -6,  6,  0,  0]])"
      ]
     },
     "execution_count": 45,
     "metadata": {},
     "output_type": "execute_result"
    }
   ],
   "source": [
    "arr_nums_baru = random_numbers[np.newaxis]\n",
    "arr_nums_baru"
   ]
  },
  {
   "cell_type": "code",
   "execution_count": null,
   "id": "4460d53e-aa31-4149-86b0-2ef3644913e8",
   "metadata": {},
   "outputs": [],
   "source": []
  },
  {
   "cell_type": "code",
   "execution_count": 49,
   "id": "86f132d8-c411-4478-bfda-f98be114dc38",
   "metadata": {},
   "outputs": [
    {
     "data": {
      "text/plain": [
       "array([[-1,  1,  5, -5, -6,  6,  0,  0]])"
      ]
     },
     "execution_count": 49,
     "metadata": {},
     "output_type": "execute_result"
    }
   ],
   "source": [
    "random_numbers[np.newaxis, :]"
   ]
  },
  {
   "cell_type": "code",
   "execution_count": 50,
   "id": "6bce6577-40b6-4225-8428-ba0350c2f536",
   "metadata": {},
   "outputs": [
    {
     "data": {
      "text/plain": [
       "array([[-1],\n",
       "       [ 1],\n",
       "       [ 5],\n",
       "       [-5],\n",
       "       [-6],\n",
       "       [ 6],\n",
       "       [ 0],\n",
       "       [ 0]])"
      ]
     },
     "execution_count": 50,
     "metadata": {},
     "output_type": "execute_result"
    }
   ],
   "source": [
    "random_numbers[:, np.newaxis]"
   ]
  },
  {
   "cell_type": "code",
   "execution_count": 51,
   "id": "2d0d829c-a804-47a2-bacd-5be8d7cce24c",
   "metadata": {},
   "outputs": [
    {
     "data": {
      "text/plain": [
       "array([[-1,  1,  5, -5, -6,  6,  0,  0]])"
      ]
     },
     "execution_count": 51,
     "metadata": {},
     "output_type": "execute_result"
    }
   ],
   "source": [
    "np.expand_dims(random_numbers, axis=0)"
   ]
  },
  {
   "cell_type": "code",
   "execution_count": 53,
   "id": "51982572-be8a-496b-bbbe-357c85670a71",
   "metadata": {},
   "outputs": [
    {
     "data": {
      "text/plain": [
       "array([[-1],\n",
       "       [ 1],\n",
       "       [ 5],\n",
       "       [-5],\n",
       "       [-6],\n",
       "       [ 6],\n",
       "       [ 0],\n",
       "       [ 0]])"
      ]
     },
     "execution_count": 53,
     "metadata": {},
     "output_type": "execute_result"
    }
   ],
   "source": [
    "np.expand_dims(random_numbers, axis=1)"
   ]
  },
  {
   "cell_type": "code",
   "execution_count": 54,
   "id": "90095f30-c313-4577-8a53-f6eee6f88a84",
   "metadata": {},
   "outputs": [
    {
     "data": {
      "text/plain": [
       "array([6, 0, 0])"
      ]
     },
     "execution_count": 54,
     "metadata": {},
     "output_type": "execute_result"
    }
   ],
   "source": [
    "random_numbers[-3:]"
   ]
  },
  {
   "cell_type": "code",
   "execution_count": 55,
   "id": "60909d58-c2bb-4700-b696-1f9f824a9662",
   "metadata": {},
   "outputs": [
    {
     "data": {
      "text/plain": [
       "array([1, 5])"
      ]
     },
     "execution_count": 55,
     "metadata": {},
     "output_type": "execute_result"
    }
   ],
   "source": [
    "random_numbers[1:3]"
   ]
  },
  {
   "cell_type": "code",
   "execution_count": 56,
   "id": "acb20f9a-44c1-44a7-a6e9-e15c48c2270a",
   "metadata": {},
   "outputs": [
    {
     "data": {
      "text/plain": [
       "array([-1, -5, -6])"
      ]
     },
     "execution_count": 56,
     "metadata": {},
     "output_type": "execute_result"
    }
   ],
   "source": [
    "random_numbers[random_numbers < 0 ]"
   ]
  },
  {
   "cell_type": "code",
   "execution_count": 58,
   "id": "0a083961-fbcf-431a-b6ef-f7a722fcecd9",
   "metadata": {},
   "outputs": [
    {
     "data": {
      "text/plain": [
       "array([-1,  1,  5, -5])"
      ]
     },
     "execution_count": 58,
     "metadata": {},
     "output_type": "execute_result"
    }
   ],
   "source": [
    "random_numbers[random_numbers % 2 == 1]"
   ]
  },
  {
   "cell_type": "code",
   "execution_count": null,
   "id": "618809f9-c831-4211-8c1c-40a0170cc031",
   "metadata": {},
   "outputs": [],
   "source": []
  },
  {
   "cell_type": "code",
   "execution_count": 64,
   "id": "8af1337c-affe-4eeb-bc5c-ef1913a9b8cb",
   "metadata": {},
   "outputs": [
    {
     "data": {
      "text/plain": [
       "array([[1, 2],\n",
       "       [3, 4]])"
      ]
     },
     "execution_count": 64,
     "metadata": {},
     "output_type": "execute_result"
    }
   ],
   "source": [
    "arr_a = np.array([[1,2], [3,4]])\n",
    "arr_a"
   ]
  },
  {
   "cell_type": "code",
   "execution_count": 61,
   "id": "09564154-a476-4e76-9533-db0463efde5d",
   "metadata": {},
   "outputs": [
    {
     "data": {
      "text/plain": [
       "array([[5, 6],\n",
       "       [7, 8]])"
      ]
     },
     "execution_count": 61,
     "metadata": {},
     "output_type": "execute_result"
    }
   ],
   "source": [
    "arr_b = np.array([[5,6],[7,8]])\n",
    "arr_b"
   ]
  },
  {
   "cell_type": "code",
   "execution_count": 66,
   "id": "c1aaaeac-c2c2-43f6-bf7e-28764f78522c",
   "metadata": {},
   "outputs": [
    {
     "data": {
      "text/plain": [
       "array([[1, 2],\n",
       "       [3, 4],\n",
       "       [5, 6],\n",
       "       [7, 8]])"
      ]
     },
     "execution_count": 66,
     "metadata": {},
     "output_type": "execute_result"
    }
   ],
   "source": [
    "np.vstack((arr_a, arr_b))"
   ]
  },
  {
   "cell_type": "code",
   "execution_count": 68,
   "id": "72f373c7-d1c3-4da9-93e7-7a86dc0855d9",
   "metadata": {},
   "outputs": [
    {
     "data": {
      "text/plain": [
       "array([[1, 2, 5, 6],\n",
       "       [3, 4, 7, 8]])"
      ]
     },
     "execution_count": 68,
     "metadata": {},
     "output_type": "execute_result"
    }
   ],
   "source": [
    "h_arr = np.hstack((arr_a, arr_b))\n",
    "h_arr"
   ]
  },
  {
   "cell_type": "code",
   "execution_count": 70,
   "id": "e2fba841-1408-44a9-8b58-99479f2a270a",
   "metadata": {},
   "outputs": [
    {
     "name": "stdout",
     "output_type": "stream",
     "text": [
      "[array([[1],\n",
      "       [3]]), array([[2],\n",
      "       [4]]), array([[5],\n",
      "       [7]]), array([[6],\n",
      "       [8]])]\n",
      "<class 'list'>\n"
     ]
    }
   ],
   "source": [
    "hasil = np.hsplit(h_arr,4)\n",
    "print(hasil)\n",
    "print(type(hasil))"
   ]
  },
  {
   "cell_type": "code",
   "execution_count": 71,
   "id": "763fd746-2a25-4d4e-9b9a-c71987b80177",
   "metadata": {},
   "outputs": [
    {
     "data": {
      "text/plain": [
       "[array([0., 0., 0., 0.]), array([0., 0., 0., 0.]), array([0., 0., 0., 0.])]"
      ]
     },
     "execution_count": 71,
     "metadata": {},
     "output_type": "execute_result"
    }
   ],
   "source": [
    "np.hsplit(np.zeros(12), 3)"
   ]
  },
  {
   "cell_type": "code",
   "execution_count": 72,
   "id": "7df7cc2e-36ca-44fe-9fd6-7a53290b57a5",
   "metadata": {},
   "outputs": [
    {
     "data": {
      "text/plain": [
       "array([ 0,  1,  2,  3,  4,  5,  6,  7,  8,  9, 10, 11])"
      ]
     },
     "execution_count": 72,
     "metadata": {},
     "output_type": "execute_result"
    }
   ],
   "source": [
    "a = np.arange(12)\n",
    "a"
   ]
  },
  {
   "cell_type": "code",
   "execution_count": 73,
   "id": "adbdbac0-aa11-46e8-9eb9-289f3bc43ef6",
   "metadata": {},
   "outputs": [
    {
     "data": {
      "text/plain": [
       "array([ 0,  1,  2,  3,  4,  5,  6,  7,  8,  9, 10, 11])"
      ]
     },
     "execution_count": 73,
     "metadata": {},
     "output_type": "execute_result"
    }
   ],
   "source": [
    "b = a.view()\n",
    "b"
   ]
  },
  {
   "cell_type": "code",
   "execution_count": 74,
   "id": "81248731-10d7-4732-9a99-f750430c442e",
   "metadata": {},
   "outputs": [
    {
     "name": "stdout",
     "output_type": "stream",
     "text": [
      "[ 0  1  2  3  4  5  6  7  8  9 10 11]\n",
      "[ 0  1  2  3  4  5  6  7  8  9 10 11 20 30]\n"
     ]
    }
   ],
   "source": [
    "b = np.append(b, [20,30])\n",
    "print(a)\n",
    "print(b)"
   ]
  },
  {
   "cell_type": "code",
   "execution_count": 75,
   "id": "e2ccc2fb-63d5-4885-8215-a5c6a98fcf71",
   "metadata": {},
   "outputs": [
    {
     "name": "stdout",
     "output_type": "stream",
     "text": [
      "[100   1   2   3   4   5   6   7   8   9  10  11  20  30]\n",
      "[ 0  1  2  3  4  5  6  7  8  9 10 11]\n"
     ]
    }
   ],
   "source": [
    "b[0] = 100\n",
    "print(b)\n",
    "print(a)"
   ]
  },
  {
   "cell_type": "code",
   "execution_count": 76,
   "id": "43481335-5738-467b-b00e-b63d48fdd32a",
   "metadata": {},
   "outputs": [
    {
     "name": "stdout",
     "output_type": "stream",
     "text": [
      "[ 9  1  2  3  4  5  6  7  8  9 10 11]\n",
      "[ 0  1  2  3  4  5  6  7  8  9 10 11]\n"
     ]
    }
   ],
   "source": [
    "c = a.copy()\n",
    "c[0] = 9\n",
    "print(c)\n",
    "print(a)"
   ]
  },
  {
   "cell_type": "code",
   "execution_count": 77,
   "id": "5488b077-6fec-4046-ae8c-db0dd9ed05e6",
   "metadata": {},
   "outputs": [
    {
     "data": {
      "text/plain": [
       "array([ 0,  1,  2,  3,  4,  5,  6,  7,  8,  9, 10, 11])"
      ]
     },
     "execution_count": 77,
     "metadata": {},
     "output_type": "execute_result"
    }
   ],
   "source": [
    "b = a.view()\n",
    "b"
   ]
  },
  {
   "cell_type": "code",
   "execution_count": 78,
   "id": "522b5122-6ed5-4f2b-ae86-284c5bb2fc07",
   "metadata": {},
   "outputs": [
    {
     "data": {
      "text/plain": [
       "array([[1, 2, 5, 6],\n",
       "       [3, 4, 7, 8]])"
      ]
     },
     "execution_count": 78,
     "metadata": {},
     "output_type": "execute_result"
    }
   ],
   "source": [
    "h_arr"
   ]
  },
  {
   "cell_type": "code",
   "execution_count": 79,
   "id": "ea9367c9-dca2-4613-8e17-5468dad02662",
   "metadata": {},
   "outputs": [
    {
     "data": {
      "text/plain": [
       "array([ 4,  6, 12, 14])"
      ]
     },
     "execution_count": 79,
     "metadata": {},
     "output_type": "execute_result"
    }
   ],
   "source": [
    "h_arr.sum(axis = 0)"
   ]
  },
  {
   "cell_type": "code",
   "execution_count": 80,
   "id": "310fc564-e310-49f6-b773-95844e6081e4",
   "metadata": {},
   "outputs": [
    {
     "data": {
      "text/plain": [
       "array([14, 22])"
      ]
     },
     "execution_count": 80,
     "metadata": {},
     "output_type": "execute_result"
    }
   ],
   "source": [
    "h_arr.sum(axis = 1)"
   ]
  },
  {
   "cell_type": "code",
   "execution_count": 83,
   "id": "dd405b90-4dd7-4aa7-8f54-fc9d8cfce4f7",
   "metadata": {},
   "outputs": [
    {
     "data": {
      "text/plain": [
       "array([[2., 3., 6., 7.],\n",
       "       [4., 5., 8., 9.]])"
      ]
     },
     "execution_count": 83,
     "metadata": {},
     "output_type": "execute_result"
    }
   ],
   "source": [
    "h_arr + np.ones(8).reshape(2,4)"
   ]
  },
  {
   "cell_type": "code",
   "execution_count": 84,
   "id": "6cb741a9-1bca-4e8c-af37-284295a53aaa",
   "metadata": {},
   "outputs": [
    {
     "data": {
      "text/plain": [
       "array([[0., 1., 4., 5.],\n",
       "       [2., 3., 6., 7.]])"
      ]
     },
     "execution_count": 84,
     "metadata": {},
     "output_type": "execute_result"
    }
   ],
   "source": [
    "h_arr - np.ones(8).reshape(2,4)"
   ]
  },
  {
   "cell_type": "code",
   "execution_count": 85,
   "id": "acace17d-c7ad-452c-867f-5d0ae82135e2",
   "metadata": {},
   "outputs": [
    {
     "data": {
      "text/plain": [
       "array([[ 2.,  4., 10., 12.],\n",
       "       [ 6.,  8., 14., 16.]])"
      ]
     },
     "execution_count": 85,
     "metadata": {},
     "output_type": "execute_result"
    }
   ],
   "source": [
    "h_arr * (np.ones(8).reshape(2,4) + np.ones(8).reshape(2,4))"
   ]
  },
  {
   "cell_type": "code",
   "execution_count": null,
   "id": "7e40617a-e37f-4ea2-9d44-01a89f3fafe6",
   "metadata": {},
   "outputs": [],
   "source": []
  },
  {
   "cell_type": "code",
   "execution_count": 87,
   "id": "1a3f29ce-46a4-4e36-ae3e-1abf66c7095b",
   "metadata": {},
   "outputs": [
    {
     "data": {
      "text/plain": [
       "array([[0.5, 1. , 2.5, 3. ],\n",
       "       [1.5, 2. , 3.5, 4. ]])"
      ]
     },
     "execution_count": 87,
     "metadata": {},
     "output_type": "execute_result"
    }
   ],
   "source": [
    "h_arr / (np.ones(8).reshape(2,4) + np.ones(8).reshape(2,4))"
   ]
  },
  {
   "cell_type": "code",
   "execution_count": 88,
   "id": "27f232d2-ee66-4d52-8312-b9a7f28c4ce1",
   "metadata": {},
   "outputs": [
    {
     "data": {
      "text/plain": [
       "array([[ 2,  4, 10, 12],\n",
       "       [ 6,  8, 14, 16]])"
      ]
     },
     "execution_count": 88,
     "metadata": {},
     "output_type": "execute_result"
    }
   ],
   "source": [
    "h_arr * 2"
   ]
  },
  {
   "cell_type": "code",
   "execution_count": 89,
   "id": "fbfc734f-7939-43ca-8bd6-4631b8c94531",
   "metadata": {},
   "outputs": [
    {
     "data": {
      "text/plain": [
       "array([[0.5, 1. , 2.5, 3. ],\n",
       "       [1.5, 2. , 3.5, 4. ]])"
      ]
     },
     "execution_count": 89,
     "metadata": {},
     "output_type": "execute_result"
    }
   ],
   "source": [
    "h_arr / 2"
   ]
  },
  {
   "cell_type": "code",
   "execution_count": 90,
   "id": "6e9790b3-7c36-4d71-9cfa-79555dcbf730",
   "metadata": {},
   "outputs": [
    {
     "data": {
      "text/plain": [
       "array([[ 3,  4,  7,  8],\n",
       "       [ 5,  6,  9, 10]])"
      ]
     },
     "execution_count": 90,
     "metadata": {},
     "output_type": "execute_result"
    }
   ],
   "source": [
    "h_arr + 2"
   ]
  },
  {
   "cell_type": "code",
   "execution_count": 92,
   "id": "4718c54e-ab9d-4bb2-92b7-84f6b95cb104",
   "metadata": {},
   "outputs": [
    {
     "data": {
      "text/plain": [
       "array([[ 4,  5,  8,  9],\n",
       "       [ 6,  7, 10, 11]])"
      ]
     },
     "execution_count": 92,
     "metadata": {},
     "output_type": "execute_result"
    }
   ],
   "source": [
    "data_awal = h_arr + 3\n",
    "data_awal"
   ]
  },
  {
   "cell_type": "code",
   "execution_count": 93,
   "id": "52c2fa0b-2c28-4c5c-9f14-4b53743f2316",
   "metadata": {},
   "outputs": [
    {
     "data": {
      "text/plain": [
       "4"
      ]
     },
     "execution_count": 93,
     "metadata": {},
     "output_type": "execute_result"
    }
   ],
   "source": [
    "data_awal.min()"
   ]
  },
  {
   "cell_type": "code",
   "execution_count": 94,
   "id": "38dfb8e9-d854-4a79-aecd-b40dd30081b7",
   "metadata": {},
   "outputs": [
    {
     "data": {
      "text/plain": [
       "11"
      ]
     },
     "execution_count": 94,
     "metadata": {},
     "output_type": "execute_result"
    }
   ],
   "source": [
    "data_awal.max()"
   ]
  },
  {
   "cell_type": "code",
   "execution_count": 95,
   "id": "4412bedb-2131-400b-86e0-a9f0f2428661",
   "metadata": {},
   "outputs": [
    {
     "data": {
      "text/plain": [
       "60"
      ]
     },
     "execution_count": 95,
     "metadata": {},
     "output_type": "execute_result"
    }
   ],
   "source": [
    "data_awal.sum()"
   ]
  },
  {
   "cell_type": "code",
   "execution_count": 96,
   "id": "73987d67-cafa-49f9-bee5-8a0ee8c2d897",
   "metadata": {},
   "outputs": [
    {
     "data": {
      "text/plain": [
       "7.5"
      ]
     },
     "execution_count": 96,
     "metadata": {},
     "output_type": "execute_result"
    }
   ],
   "source": [
    "data_awal.mean()"
   ]
  },
  {
   "cell_type": "code",
   "execution_count": 97,
   "id": "31778779-a5d0-4fd9-abdb-a6cae57bd76c",
   "metadata": {},
   "outputs": [
    {
     "data": {
      "text/plain": [
       "2.29128784747792"
      ]
     },
     "execution_count": 97,
     "metadata": {},
     "output_type": "execute_result"
    }
   ],
   "source": [
    "data_awal.std()"
   ]
  },
  {
   "cell_type": "code",
   "execution_count": 102,
   "id": "8e124d65-0402-42d2-b6dd-956464c8b076",
   "metadata": {},
   "outputs": [
    {
     "data": {
      "text/plain": [
       "array([[ 58,  64],\n",
       "       [139, 154]])"
      ]
     },
     "execution_count": 102,
     "metadata": {},
     "output_type": "execute_result"
    }
   ],
   "source": [
    "m1 = np.array([\n",
    "    [1,2,3],\n",
    "    [4,5,6]\n",
    "])\n",
    "\n",
    "m2 = np.array([\n",
    "    [7,8],\n",
    "    [9,10],\n",
    "    [11,12]\n",
    "])\n",
    "\n",
    "hasil = np.dot(m1, m2)\n",
    "hasil"
   ]
  },
  {
   "cell_type": "code",
   "execution_count": 104,
   "id": "f79ba010-e2ba-44fd-a84b-865f56d551ff",
   "metadata": {},
   "outputs": [
    {
     "data": {
      "text/plain": [
       "58"
      ]
     },
     "execution_count": 104,
     "metadata": {},
     "output_type": "execute_result"
    }
   ],
   "source": [
    "hasil[0,0]"
   ]
  },
  {
   "cell_type": "code",
   "execution_count": 105,
   "id": "e5ab9a79-08ce-4834-a44a-599ff9524922",
   "metadata": {},
   "outputs": [
    {
     "data": {
      "text/plain": [
       "array([139, 154])"
      ]
     },
     "execution_count": 105,
     "metadata": {},
     "output_type": "execute_result"
    }
   ],
   "source": [
    "hasil[1]"
   ]
  },
  {
   "cell_type": "code",
   "execution_count": 106,
   "id": "8a51604d-741c-4ada-a58f-225af95cff8a",
   "metadata": {},
   "outputs": [
    {
     "data": {
      "text/plain": [
       "154"
      ]
     },
     "execution_count": 106,
     "metadata": {},
     "output_type": "execute_result"
    }
   ],
   "source": [
    "hasil[1,1]"
   ]
  },
  {
   "cell_type": "code",
   "execution_count": 107,
   "id": "e56ee08b-99c4-4dad-bd31-7438bfafe02b",
   "metadata": {},
   "outputs": [
    {
     "data": {
      "text/plain": [
       "array([ 64, 154])"
      ]
     },
     "execution_count": 107,
     "metadata": {},
     "output_type": "execute_result"
    }
   ],
   "source": [
    "hasil[:,1]"
   ]
  },
  {
   "cell_type": "code",
   "execution_count": 108,
   "id": "3b34707d-59f5-449e-b7bf-8bedc736e02a",
   "metadata": {},
   "outputs": [
    {
     "data": {
      "text/plain": [
       "array([139, 154])"
      ]
     },
     "execution_count": 108,
     "metadata": {},
     "output_type": "execute_result"
    }
   ],
   "source": [
    "hasil[-1]"
   ]
  },
  {
   "cell_type": "code",
   "execution_count": 109,
   "id": "ebce6f37-b89a-4799-97cc-5c17ebbf8036",
   "metadata": {},
   "outputs": [
    {
     "data": {
      "text/plain": [
       "array([[ 7,  8],\n",
       "       [ 9, 10],\n",
       "       [11, 12]])"
      ]
     },
     "execution_count": 109,
     "metadata": {},
     "output_type": "execute_result"
    }
   ],
   "source": [
    "m2"
   ]
  },
  {
   "cell_type": "code",
   "execution_count": 113,
   "id": "6ff01af6-8e3b-4548-9c24-00bb457608ed",
   "metadata": {},
   "outputs": [
    {
     "data": {
      "text/plain": [
       "array([[ 7,  8],\n",
       "       [ 9, 10],\n",
       "       [11, 12]])"
      ]
     },
     "execution_count": 113,
     "metadata": {},
     "output_type": "execute_result"
    }
   ],
   "source": [
    "m2.reshape(3,2)"
   ]
  },
  {
   "cell_type": "code",
   "execution_count": 114,
   "id": "f9e19f64-bacd-4c1f-a56b-9b9aee11c725",
   "metadata": {},
   "outputs": [
    {
     "data": {
      "text/plain": [
       "array([[ 7,  9, 11],\n",
       "       [ 8, 10, 12]])"
      ]
     },
     "execution_count": 114,
     "metadata": {},
     "output_type": "execute_result"
    }
   ],
   "source": [
    "m2.T"
   ]
  },
  {
   "cell_type": "code",
   "execution_count": 115,
   "id": "1522ffc2-9615-4570-8990-a01696bdcb9d",
   "metadata": {},
   "outputs": [
    {
     "data": {
      "text/plain": [
       "array([0., 0., 0.])"
      ]
     },
     "execution_count": 115,
     "metadata": {},
     "output_type": "execute_result"
    }
   ],
   "source": [
    "np.zeros(3)"
   ]
  },
  {
   "cell_type": "code",
   "execution_count": 117,
   "id": "527b5d7c-5686-425c-b38c-359f1bc88469",
   "metadata": {},
   "outputs": [
    {
     "data": {
      "text/plain": [
       "array([[0., 0.],\n",
       "       [0., 0.],\n",
       "       [0., 0.]])"
      ]
     },
     "execution_count": 117,
     "metadata": {},
     "output_type": "execute_result"
    }
   ],
   "source": [
    "np.zeros((3,2))"
   ]
  },
  {
   "cell_type": "code",
   "execution_count": 119,
   "id": "51781a68-3704-4baa-987a-6f8b35feb4fe",
   "metadata": {},
   "outputs": [
    {
     "data": {
      "text/plain": [
       "array([[[0., 0., 0.],\n",
       "        [0., 0., 0.]],\n",
       "\n",
       "       [[0., 0., 0.],\n",
       "        [0., 0., 0.]],\n",
       "\n",
       "       [[0., 0., 0.],\n",
       "        [0., 0., 0.]]])"
      ]
     },
     "execution_count": 119,
     "metadata": {},
     "output_type": "execute_result"
    }
   ],
   "source": [
    "np.zeros((3,2,3))"
   ]
  },
  {
   "cell_type": "code",
   "execution_count": 121,
   "id": "92939114-b500-4072-bf93-01acbdda73da",
   "metadata": {},
   "outputs": [
    {
     "data": {
      "text/plain": [
       "array([0.6401429 , 0.60129726])"
      ]
     },
     "execution_count": 121,
     "metadata": {},
     "output_type": "execute_result"
    }
   ],
   "source": [
    "np.random.random(2)"
   ]
  },
  {
   "cell_type": "code",
   "execution_count": null,
   "id": "7e2d0014-3010-4cec-80bb-f2021984e1a2",
   "metadata": {},
   "outputs": [],
   "source": []
  },
  {
   "cell_type": "code",
   "execution_count": 122,
   "id": "965b8702-25fb-450e-8e26-4388617e1830",
   "metadata": {},
   "outputs": [],
   "source": [
    "arr_3d =np.zeros((3,2,3))"
   ]
  },
  {
   "cell_type": "code",
   "execution_count": 123,
   "id": "e76a6ba3-b7a7-4f5f-9581-ffbe4b2b314f",
   "metadata": {},
   "outputs": [
    {
     "data": {
      "text/plain": [
       "array([0., 0., 0., 0., 0., 0., 0., 0., 0., 0., 0., 0., 0., 0., 0., 0., 0.,\n",
       "       0.])"
      ]
     },
     "execution_count": 123,
     "metadata": {},
     "output_type": "execute_result"
    }
   ],
   "source": [
    "arr_3d.flatten()"
   ]
  },
  {
   "cell_type": "code",
   "execution_count": 124,
   "id": "d0f2b8f3-91e2-4455-b288-4ea320a440b9",
   "metadata": {},
   "outputs": [
    {
     "data": {
      "text/plain": [
       "array([0., 0., 0., 0., 0., 0., 0., 0., 0., 0., 0., 0., 0., 0., 0., 0., 0.,\n",
       "       0.])"
      ]
     },
     "execution_count": 124,
     "metadata": {},
     "output_type": "execute_result"
    }
   ],
   "source": [
    "arr_3d.ravel()"
   ]
  },
  {
   "cell_type": "code",
   "execution_count": 125,
   "id": "2ec61c91-0393-4448-88eb-d96aec31143f",
   "metadata": {},
   "outputs": [
    {
     "ename": "NameError",
     "evalue": "name 'n' is not defined",
     "output_type": "error",
     "traceback": [
      "\u001b[1;31m---------------------------------------------------------------------------\u001b[0m",
      "\u001b[1;31mNameError\u001b[0m                                 Traceback (most recent call last)",
      "\u001b[1;32m<ipython-input-125-1788d6b6ed7a>\u001b[0m in \u001b[0;36m<module>\u001b[1;34m\u001b[0m\n\u001b[1;32m----> 1\u001b[1;33m \u001b[0mhasil\u001b[0m \u001b[1;33m=\u001b[0m \u001b[1;33m(\u001b[0m\u001b[1;36m1\u001b[0m\u001b[1;33m/\u001b[0m\u001b[0mn\u001b[0m\u001b[1;33m)\u001b[0m \u001b[1;33m*\u001b[0m \u001b[0mnp\u001b[0m\u001b[1;33m.\u001b[0m\u001b[0msum\u001b[0m\u001b[1;33m(\u001b[0m\u001b[0mnpsquare\u001b[0m\u001b[1;33m(\u001b[0m\u001b[0mobserved\u001b[0m \u001b[1;33m-\u001b[0m \u001b[0mpredition\u001b[0m\u001b[1;33m)\u001b[0m\u001b[1;33m)\u001b[0m\u001b[1;33m\u001b[0m\u001b[1;33m\u001b[0m\u001b[0m\n\u001b[0m",
      "\u001b[1;31mNameError\u001b[0m: name 'n' is not defined"
     ]
    }
   ],
   "source": [
    "hasil = (1/n) * np.sum(npsquare(observed - predition))"
   ]
  },
  {
   "cell_type": "code",
   "execution_count": null,
   "id": "93898536-1330-4c9f-82c7-eba57d99d613",
   "metadata": {},
   "outputs": [],
   "source": []
  }
 ],
 "metadata": {
  "kernelspec": {
   "display_name": "Python 3",
   "language": "python",
   "name": "python3"
  },
  "language_info": {
   "codemirror_mode": {
    "name": "ipython",
    "version": 3
   },
   "file_extension": ".py",
   "mimetype": "text/x-python",
   "name": "python",
   "nbconvert_exporter": "python",
   "pygments_lexer": "ipython3",
   "version": "3.8.8"
  }
 },
 "nbformat": 4,
 "nbformat_minor": 5
}
